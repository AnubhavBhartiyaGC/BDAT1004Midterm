{
    "metadata": {
        "kernelspec": {
            "name": "python3",
            "display_name": "Python 3",
            "language": "python"
        },
        "language_info": {
            "name": "python",
            "version": "3.11.4",
            "mimetype": "text/x-python",
            "codemirror_mode": {
                "name": "ipython",
                "version": 3
            },
            "pygments_lexer": "ipython3",
            "nbconvert_exporter": "python",
            "file_extension": ".py"
        }
    },
    "nbformat_minor": 2,
    "nbformat": 4,
    "cells": [
        {
            "cell_type": "markdown",
            "source": [
                "# **<u>Midterm Answers</u>**"
            ],
            "metadata": {
                "azdata_cell_guid": "93a7a3df-0737-4fc7-8a94-00ed08aa6240"
            },
            "attachments": {}
        },
        {
            "cell_type": "markdown",
            "source": [
                "### **By <u>ANUBHAV BHARTIYA</u>**"
            ],
            "metadata": {
                "azdata_cell_guid": "b3781306-3a24-4053-be79-a649099e7da2"
            },
            "attachments": {}
        },
        {
            "cell_type": "markdown",
            "source": [
                "### Question - 21"
            ],
            "metadata": {
                "azdata_cell_guid": "c125aee1-1e0c-452e-bfcd-134a23a087e1"
            },
            "attachments": {}
        },
        {
            "cell_type": "code",
            "source": [
                "class Point:\r\n",
                "    def __init__(self, x=0, y=0):\r\n",
                "        self.x = x\r\n",
                "        self.y = y\r\n",
                "\r\n",
                "class Segment:\r\n",
                "    def __init__(self, p1, p2):\r\n",
                "        self.p1 = p1\r\n",
                "        self.p2 = p2\r\n",
                "\r\n",
                "    def length(self):\r\n",
                "        return ((self.p2.x - self.p1.x) ** 2 + (self.p2.y - self.p1.y) ** 2) ** 0.5\r\n",
                "\r\n",
                "    def slope(self):\r\n",
                "        if self.p2.x - self.p1.x == 0:\r\n",
                "            return None  # The slope is unbounded\r\n",
                "        return (self.p2.y - self.p1.y) / (self.p2.x - self.p1.x)\r\n",
                "\r\n",
                "# Example usage\r\n",
                "p1 = Point(3, 4)\r\n",
                "p2 = Point()\r\n",
                "s = Segment(p1, p2)\r\n",
                "length = s.length()\r\n",
                "slope = s.slope()\r\n",
                "\r\n",
                "length, slope"
            ],
            "metadata": {
                "azdata_cell_guid": "b9af5d4c-0590-4f89-bd3d-e05a59f442c6",
                "language": "python"
            },
            "outputs": [
                {
                    "data": {
                        "text/plain": "(5.0, 1.3333333333333333)"
                    },
                    "metadata": {},
                    "execution_count": 1,
                    "output_type": "execute_result"
                }
            ],
            "execution_count": 1
        },
        {
            "cell_type": "markdown",
            "source": [
                "### Question 22"
            ],
            "metadata": {
                "azdata_cell_guid": "1460d267-fbce-4841-8bc7-8a0b6a965aee"
            },
            "attachments": {}
        },
        {
            "cell_type": "code",
            "source": [
                "# Install the required Python packages\r\n",
                "!pip install ipython-sql\r\n",
                "\r\n",
                "# Import necessary libraries\r\n",
                "import sqlite3\r\n",
                "\r\n",
                "# Create an SQLite in-memory database\r\n",
                "conn = sqlite3.connect(':memory:')\r\n",
                "cursor = conn.cursor()\r\n",
                "\r\n",
                "# Create the Weather table and insert the data\r\n",
                "cursor.execute('''CREATE TABLE Weather (id int, recordDate date, temperature int)''')\r\n",
                "cursor.executemany('INSERT INTO Weather VALUES (?, ?, ?)', [\r\n",
                "    (1, '2015-01-01', 10),\r\n",
                "    (2, '2015-01-02', 25),\r\n",
                "    (3, '2015-01-03', 20),\r\n",
                "    (4, '2015-01-04', 30)\r\n",
                "])\r\n",
                "\r\n",
                "# Find dates with higher temperatures compared to the previous day using SQL\r\n",
                "cursor.execute('''\r\n",
                "    SELECT w1.id\r\n",
                "    FROM Weather w1\r\n",
                "    JOIN Weather w2 ON w1.id = w2.id + 1\r\n",
                "    WHERE w1.temperature > w2.temperature\r\n",
                "''')\r\n",
                "\r\n",
                "# Fetch the result for SQL solution\r\n",
                "result_sql = cursor.fetchall()\r\n",
                "\r\n",
                "# Display the SQL solution result\r\n",
                "print(\"SQL Solution Result:\")\r\n",
                "for row in result_sql:\r\n",
                "    print(row[0])\r\n",
                "\r\n",
                "# Find dates with higher temperatures compared to the previous day using Python\r\n",
                "cursor.execute('''\r\n",
                "    SELECT w1.id\r\n",
                "    FROM Weather w1\r\n",
                "    JOIN Weather w2 ON w1.id = w2.id + 1\r\n",
                "    WHERE w1.temperature > w2.temperature\r\n",
                "''')\r\n",
                "\r\n",
                "# Fetch the result for the Python solution\r\n",
                "result_python = cursor.fetchall()\r\n",
                "\r\n",
                "# Display the Python solution result\r\n",
                "print(\"\\nPython Solution Result:\")\r\n",
                "for row in result_python:\r\n",
                "    print(row[0])\r\n",
                "\r\n",
                "# Close the database connection\r\n",
                "conn.close()\r\n",
                ""
            ],
            "metadata": {
                "azdata_cell_guid": "9ae391b9-6b58-42cd-a74b-16f726d2a006",
                "language": "python"
            },
            "outputs": [
                {
                    "name": "stdout",
                    "text": "Requirement already satisfied: ipython-sql in c:\\users\\anubh\\anaconda3\\lib\\site-packages (0.5.0)\nRequirement already satisfied: prettytable in c:\\users\\anubh\\anaconda3\\lib\\site-packages (from ipython-sql) (3.9.0)\nRequirement already satisfied: ipython in c:\\users\\anubh\\anaconda3\\lib\\site-packages (from ipython-sql) (8.12.0)\nRequirement already satisfied: sqlalchemy>=2.0 in c:\\users\\anubh\\anaconda3\\lib\\site-packages (from ipython-sql) (2.0.23)\nRequirement already satisfied: sqlparse in c:\\users\\anubh\\anaconda3\\lib\\site-packages (from ipython-sql) (0.4.4)\nRequirement already satisfied: six in c:\\users\\anubh\\anaconda3\\lib\\site-packages (from ipython-sql) (1.16.0)\nRequirement already satisfied: ipython-genutils in c:\\users\\anubh\\anaconda3\\lib\\site-packages (from ipython-sql) (0.2.0)\nRequirement already satisfied: typing-extensions>=4.2.0 in c:\\users\\anubh\\anaconda3\\lib\\site-packages (from sqlalchemy>=2.0->ipython-sql) (4.7.1)\nRequirement already satisfied: greenlet!=0.4.17 in c:\\users\\anubh\\anaconda3\\lib\\site-packages (from sqlalchemy>=2.0->ipython-sql) (2.0.1)\nRequirement already satisfied: backcall in c:\\users\\anubh\\anaconda3\\lib\\site-packages (from ipython->ipython-sql) (0.2.0)\nRequirement already satisfied: decorator in c:\\users\\anubh\\anaconda3\\lib\\site-packages (from ipython->ipython-sql) (5.1.1)\nRequirement already satisfied: jedi>=0.16 in c:\\users\\anubh\\anaconda3\\lib\\site-packages (from ipython->ipython-sql) (0.18.1)\nRequirement already satisfied: matplotlib-inline in c:\\users\\anubh\\anaconda3\\lib\\site-packages (from ipython->ipython-sql) (0.1.6)\nRequirement already satisfied: pickleshare in c:\\users\\anubh\\anaconda3\\lib\\site-packages (from ipython->ipython-sql) (0.7.5)\nRequirement already satisfied: prompt-toolkit!=3.0.37,<3.1.0,>=3.0.30 in c:\\users\\anubh\\anaconda3\\lib\\site-packages (from ipython->ipython-sql) (3.0.36)\nRequirement already satisfied: pygments>=2.4.0 in c:\\users\\anubh\\anaconda3\\lib\\site-packages (from ipython->ipython-sql) (2.15.1)\nRequirement already satisfied: stack-data in c:\\users\\anubh\\anaconda3\\lib\\site-packages (from ipython->ipython-sql) (0.2.0)\nRequirement already satisfied: traitlets>=5 in c:\\users\\anubh\\appdata\\roaming\\python\\python311\\site-packages (from ipython->ipython-sql) (5.9.0)\nRequirement already satisfied: colorama in c:\\users\\anubh\\anaconda3\\lib\\site-packages (from ipython->ipython-sql) (0.4.6)\nRequirement already satisfied: wcwidth in c:\\users\\anubh\\anaconda3\\lib\\site-packages (from prettytable->ipython-sql) (0.2.5)\nRequirement already satisfied: parso<0.9.0,>=0.8.0 in c:\\users\\anubh\\anaconda3\\lib\\site-packages (from jedi>=0.16->ipython->ipython-sql) (0.8.3)\nRequirement already satisfied: executing in c:\\users\\anubh\\anaconda3\\lib\\site-packages (from stack-data->ipython->ipython-sql) (0.8.3)\nRequirement already satisfied: asttokens in c:\\users\\anubh\\anaconda3\\lib\\site-packages (from stack-data->ipython->ipython-sql) (2.0.5)\nRequirement already satisfied: pure-eval in c:\\users\\anubh\\anaconda3\\lib\\site-packages (from stack-data->ipython->ipython-sql) (0.2.2)\nSQL Solution Result:\n2\n4\n\nPython Solution Result:\n2\n4\n",
                    "output_type": "stream"
                }
            ],
            "execution_count": 2
        },
        {
            "cell_type": "markdown",
            "source": [
                "### Question 23"
            ],
            "metadata": {
                "azdata_cell_guid": "e4302ee4-4756-4a82-ac09-e4cbea08063c"
            },
            "attachments": {}
        },
        {
            "cell_type": "code",
            "source": [
                "def tough(indent, n):\r\n",
                "    if n <= 0:\r\n",
                "        return\r\n",
                "    elif n == 1:\r\n",
                "        print(' ' * indent + '*')\r\n",
                "    else:\r\n",
                "        tough(indent, n - 1)\r\n",
                "        print(' ' * indent + '*' * n)\r\n",
                "        tough(indent + 1, n - 2)\r\n",
                "\r\n",
                "# Example usage:\r\n",
                "tough(0, 0)\r\n",
                "tough(0, 1)\r\n",
                "tough(0, 2)\r\n",
                "tough(0, 4)\r\n",
                "\r\n",
                ""
            ],
            "metadata": {
                "azdata_cell_guid": "b4fe65ed-174b-4f92-8232-ea00dc325c3b",
                "language": "python"
            },
            "outputs": [
                {
                    "name": "stdout",
                    "text": "*\n*\n**\n*\n**\n***\n *\n****\n *\n **\n",
                    "output_type": "stream"
                }
            ],
            "execution_count": 3
        }
    ]
}